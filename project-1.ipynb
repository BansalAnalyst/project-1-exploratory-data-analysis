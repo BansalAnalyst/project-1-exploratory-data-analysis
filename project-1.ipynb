{
 "cells": [
  {
   "cell_type": "markdown",
   "id": "d2b583ce",
   "metadata": {},
   "source": [
    "# exploratory data nalaysis project "
   ]
  },
  {
   "cell_type": "raw",
   "id": "bef8bfff",
   "metadata": {},
   "source": [
    "   step-1(data prepration and cleaning)\n",
    "-downloading dataset \n",
    "-load the file using pandas \n",
    "-look at some information about the file\n",
    "-fix any missing or incorrect values"
   ]
  },
  {
   "cell_type": "code",
   "execution_count": 2,
   "id": "41d240dd",
   "metadata": {},
   "outputs": [],
   "source": [
    "#this does not contain data about new york"
   ]
  },
  {
   "cell_type": "code",
   "execution_count": 3,
   "id": "5197013d",
   "metadata": {},
   "outputs": [],
   "source": [
    "import pandas as pd\n"
   ]
  },
  {
   "cell_type": "code",
   "execution_count": 4,
   "id": "0c88e380",
   "metadata": {},
   "outputs": [],
   "source": [
    "df=pd.read_csv('US_Accidents_Dec20_Updated.csv')#loading data into dataframe"
   ]
  },
  {
   "cell_type": "code",
   "execution_count": 5,
   "id": "462f6314",
   "metadata": {},
   "outputs": [
    {
     "data": {
      "text/html": [
       "<div>\n",
       "<style scoped>\n",
       "    .dataframe tbody tr th:only-of-type {\n",
       "        vertical-align: middle;\n",
       "    }\n",
       "\n",
       "    .dataframe tbody tr th {\n",
       "        vertical-align: top;\n",
       "    }\n",
       "\n",
       "    .dataframe thead th {\n",
       "        text-align: right;\n",
       "    }\n",
       "</style>\n",
       "<table border=\"1\" class=\"dataframe\">\n",
       "  <thead>\n",
       "    <tr style=\"text-align: right;\">\n",
       "      <th></th>\n",
       "      <th>ID</th>\n",
       "      <th>Severity</th>\n",
       "      <th>Start_Time</th>\n",
       "      <th>End_Time</th>\n",
       "      <th>Start_Lat</th>\n",
       "      <th>Start_Lng</th>\n",
       "      <th>End_Lat</th>\n",
       "      <th>End_Lng</th>\n",
       "      <th>Distance(mi)</th>\n",
       "      <th>Description</th>\n",
       "      <th>...</th>\n",
       "      <th>Roundabout</th>\n",
       "      <th>Station</th>\n",
       "      <th>Stop</th>\n",
       "      <th>Traffic_Calming</th>\n",
       "      <th>Traffic_Signal</th>\n",
       "      <th>Turning_Loop</th>\n",
       "      <th>Sunrise_Sunset</th>\n",
       "      <th>Civil_Twilight</th>\n",
       "      <th>Nautical_Twilight</th>\n",
       "      <th>Astronomical_Twilight</th>\n",
       "    </tr>\n",
       "  </thead>\n",
       "  <tbody>\n",
       "    <tr>\n",
       "      <th>0</th>\n",
       "      <td>A-1</td>\n",
       "      <td>2</td>\n",
       "      <td>2019-05-21 08:29:55</td>\n",
       "      <td>2019-05-21 09:29:40</td>\n",
       "      <td>34.808868</td>\n",
       "      <td>-82.269157</td>\n",
       "      <td>34.808868</td>\n",
       "      <td>-82.269157</td>\n",
       "      <td>0.000</td>\n",
       "      <td>Accident on Tanner Rd at Pennbrooke Ln.</td>\n",
       "      <td>...</td>\n",
       "      <td>False</td>\n",
       "      <td>False</td>\n",
       "      <td>False</td>\n",
       "      <td>False</td>\n",
       "      <td>False</td>\n",
       "      <td>False</td>\n",
       "      <td>Day</td>\n",
       "      <td>Day</td>\n",
       "      <td>Day</td>\n",
       "      <td>Day</td>\n",
       "    </tr>\n",
       "    <tr>\n",
       "      <th>1</th>\n",
       "      <td>A-2</td>\n",
       "      <td>2</td>\n",
       "      <td>2019-10-07 17:43:09</td>\n",
       "      <td>2019-10-07 19:42:50</td>\n",
       "      <td>35.090080</td>\n",
       "      <td>-80.745560</td>\n",
       "      <td>35.090080</td>\n",
       "      <td>-80.745560</td>\n",
       "      <td>0.000</td>\n",
       "      <td>Accident on Houston Branch Rd at Providence Br...</td>\n",
       "      <td>...</td>\n",
       "      <td>False</td>\n",
       "      <td>False</td>\n",
       "      <td>False</td>\n",
       "      <td>False</td>\n",
       "      <td>False</td>\n",
       "      <td>False</td>\n",
       "      <td>Day</td>\n",
       "      <td>Day</td>\n",
       "      <td>Day</td>\n",
       "      <td>Day</td>\n",
       "    </tr>\n",
       "    <tr>\n",
       "      <th>2</th>\n",
       "      <td>A-3</td>\n",
       "      <td>2</td>\n",
       "      <td>2020-12-13 21:53:00</td>\n",
       "      <td>2020-12-13 22:44:00</td>\n",
       "      <td>37.145730</td>\n",
       "      <td>-121.985052</td>\n",
       "      <td>37.165850</td>\n",
       "      <td>-121.988062</td>\n",
       "      <td>1.400</td>\n",
       "      <td>Stationary traffic on CA-17 from Summit Rd (CA...</td>\n",
       "      <td>...</td>\n",
       "      <td>False</td>\n",
       "      <td>False</td>\n",
       "      <td>False</td>\n",
       "      <td>False</td>\n",
       "      <td>False</td>\n",
       "      <td>False</td>\n",
       "      <td>Night</td>\n",
       "      <td>Night</td>\n",
       "      <td>Night</td>\n",
       "      <td>Night</td>\n",
       "    </tr>\n",
       "    <tr>\n",
       "      <th>3</th>\n",
       "      <td>A-4</td>\n",
       "      <td>2</td>\n",
       "      <td>2018-04-17 16:51:23</td>\n",
       "      <td>2018-04-17 17:50:46</td>\n",
       "      <td>39.110390</td>\n",
       "      <td>-119.773781</td>\n",
       "      <td>39.110390</td>\n",
       "      <td>-119.773781</td>\n",
       "      <td>0.000</td>\n",
       "      <td>Accident on US-395 Southbound at Topsy Ln.</td>\n",
       "      <td>...</td>\n",
       "      <td>False</td>\n",
       "      <td>False</td>\n",
       "      <td>False</td>\n",
       "      <td>False</td>\n",
       "      <td>True</td>\n",
       "      <td>False</td>\n",
       "      <td>Day</td>\n",
       "      <td>Day</td>\n",
       "      <td>Day</td>\n",
       "      <td>Day</td>\n",
       "    </tr>\n",
       "    <tr>\n",
       "      <th>4</th>\n",
       "      <td>A-5</td>\n",
       "      <td>3</td>\n",
       "      <td>2016-08-31 17:40:49</td>\n",
       "      <td>2016-08-31 18:10:49</td>\n",
       "      <td>26.102942</td>\n",
       "      <td>-80.265091</td>\n",
       "      <td>26.102942</td>\n",
       "      <td>-80.265091</td>\n",
       "      <td>0.000</td>\n",
       "      <td>Accident on I-595 Westbound at Exit 4 / Pine I...</td>\n",
       "      <td>...</td>\n",
       "      <td>False</td>\n",
       "      <td>False</td>\n",
       "      <td>False</td>\n",
       "      <td>False</td>\n",
       "      <td>True</td>\n",
       "      <td>False</td>\n",
       "      <td>Day</td>\n",
       "      <td>Day</td>\n",
       "      <td>Day</td>\n",
       "      <td>Day</td>\n",
       "    </tr>\n",
       "    <tr>\n",
       "      <th>...</th>\n",
       "      <td>...</td>\n",
       "      <td>...</td>\n",
       "      <td>...</td>\n",
       "      <td>...</td>\n",
       "      <td>...</td>\n",
       "      <td>...</td>\n",
       "      <td>...</td>\n",
       "      <td>...</td>\n",
       "      <td>...</td>\n",
       "      <td>...</td>\n",
       "      <td>...</td>\n",
       "      <td>...</td>\n",
       "      <td>...</td>\n",
       "      <td>...</td>\n",
       "      <td>...</td>\n",
       "      <td>...</td>\n",
       "      <td>...</td>\n",
       "      <td>...</td>\n",
       "      <td>...</td>\n",
       "      <td>...</td>\n",
       "      <td>...</td>\n",
       "    </tr>\n",
       "    <tr>\n",
       "      <th>2906605</th>\n",
       "      <td>A-2906606</td>\n",
       "      <td>2</td>\n",
       "      <td>2018-06-28 08:49:01</td>\n",
       "      <td>2018-06-28 09:18:51</td>\n",
       "      <td>29.813824</td>\n",
       "      <td>-95.399437</td>\n",
       "      <td>29.813824</td>\n",
       "      <td>-95.399437</td>\n",
       "      <td>0.000</td>\n",
       "      <td>Accident on 30th St at Yale St.</td>\n",
       "      <td>...</td>\n",
       "      <td>False</td>\n",
       "      <td>False</td>\n",
       "      <td>True</td>\n",
       "      <td>False</td>\n",
       "      <td>False</td>\n",
       "      <td>False</td>\n",
       "      <td>Day</td>\n",
       "      <td>Day</td>\n",
       "      <td>Day</td>\n",
       "      <td>Day</td>\n",
       "    </tr>\n",
       "    <tr>\n",
       "      <th>2906606</th>\n",
       "      <td>A-2906607</td>\n",
       "      <td>2</td>\n",
       "      <td>2019-01-10 02:01:01</td>\n",
       "      <td>2019-01-10 02:30:32</td>\n",
       "      <td>34.068890</td>\n",
       "      <td>-117.342010</td>\n",
       "      <td>34.068890</td>\n",
       "      <td>-117.342010</td>\n",
       "      <td>0.000</td>\n",
       "      <td>At Valley Blvd - Accident.</td>\n",
       "      <td>...</td>\n",
       "      <td>False</td>\n",
       "      <td>False</td>\n",
       "      <td>False</td>\n",
       "      <td>False</td>\n",
       "      <td>False</td>\n",
       "      <td>False</td>\n",
       "      <td>Night</td>\n",
       "      <td>Night</td>\n",
       "      <td>Night</td>\n",
       "      <td>Night</td>\n",
       "    </tr>\n",
       "    <tr>\n",
       "      <th>2906607</th>\n",
       "      <td>A-2906608</td>\n",
       "      <td>2</td>\n",
       "      <td>2020-11-23 12:52:00</td>\n",
       "      <td>2020-11-24 00:47:37</td>\n",
       "      <td>25.702200</td>\n",
       "      <td>-80.335556</td>\n",
       "      <td>25.703040</td>\n",
       "      <td>-80.334099</td>\n",
       "      <td>0.108</td>\n",
       "      <td>Stationary traffic on County Hwy-913 - FL-986 ...</td>\n",
       "      <td>...</td>\n",
       "      <td>False</td>\n",
       "      <td>False</td>\n",
       "      <td>False</td>\n",
       "      <td>False</td>\n",
       "      <td>False</td>\n",
       "      <td>False</td>\n",
       "      <td>Day</td>\n",
       "      <td>Day</td>\n",
       "      <td>Day</td>\n",
       "      <td>Day</td>\n",
       "    </tr>\n",
       "    <tr>\n",
       "      <th>2906608</th>\n",
       "      <td>A-2906609</td>\n",
       "      <td>2</td>\n",
       "      <td>2019-12-29 22:38:00</td>\n",
       "      <td>2019-12-29 23:38:00</td>\n",
       "      <td>40.660140</td>\n",
       "      <td>-111.952460</td>\n",
       "      <td>40.660140</td>\n",
       "      <td>-111.952460</td>\n",
       "      <td>0.000</td>\n",
       "      <td>At UT-266/4700/Exit 15 - Accident.</td>\n",
       "      <td>...</td>\n",
       "      <td>False</td>\n",
       "      <td>False</td>\n",
       "      <td>False</td>\n",
       "      <td>False</td>\n",
       "      <td>False</td>\n",
       "      <td>False</td>\n",
       "      <td>Night</td>\n",
       "      <td>Night</td>\n",
       "      <td>Night</td>\n",
       "      <td>Night</td>\n",
       "    </tr>\n",
       "    <tr>\n",
       "      <th>2906609</th>\n",
       "      <td>A-2906610</td>\n",
       "      <td>2</td>\n",
       "      <td>2018-03-26 13:35:03</td>\n",
       "      <td>2018-03-26 14:39:00</td>\n",
       "      <td>38.831749</td>\n",
       "      <td>-104.748161</td>\n",
       "      <td>38.831749</td>\n",
       "      <td>-104.748161</td>\n",
       "      <td>0.000</td>\n",
       "      <td>Accident on Murray Blvd at Byron Dr.</td>\n",
       "      <td>...</td>\n",
       "      <td>False</td>\n",
       "      <td>False</td>\n",
       "      <td>False</td>\n",
       "      <td>False</td>\n",
       "      <td>True</td>\n",
       "      <td>False</td>\n",
       "      <td>Day</td>\n",
       "      <td>Day</td>\n",
       "      <td>Day</td>\n",
       "      <td>Day</td>\n",
       "    </tr>\n",
       "  </tbody>\n",
       "</table>\n",
       "<p>2906610 rows × 47 columns</p>\n",
       "</div>"
      ],
      "text/plain": [
       "                ID  Severity           Start_Time             End_Time  \\\n",
       "0              A-1         2  2019-05-21 08:29:55  2019-05-21 09:29:40   \n",
       "1              A-2         2  2019-10-07 17:43:09  2019-10-07 19:42:50   \n",
       "2              A-3         2  2020-12-13 21:53:00  2020-12-13 22:44:00   \n",
       "3              A-4         2  2018-04-17 16:51:23  2018-04-17 17:50:46   \n",
       "4              A-5         3  2016-08-31 17:40:49  2016-08-31 18:10:49   \n",
       "...            ...       ...                  ...                  ...   \n",
       "2906605  A-2906606         2  2018-06-28 08:49:01  2018-06-28 09:18:51   \n",
       "2906606  A-2906607         2  2019-01-10 02:01:01  2019-01-10 02:30:32   \n",
       "2906607  A-2906608         2  2020-11-23 12:52:00  2020-11-24 00:47:37   \n",
       "2906608  A-2906609         2  2019-12-29 22:38:00  2019-12-29 23:38:00   \n",
       "2906609  A-2906610         2  2018-03-26 13:35:03  2018-03-26 14:39:00   \n",
       "\n",
       "         Start_Lat   Start_Lng    End_Lat     End_Lng  Distance(mi)  \\\n",
       "0        34.808868  -82.269157  34.808868  -82.269157         0.000   \n",
       "1        35.090080  -80.745560  35.090080  -80.745560         0.000   \n",
       "2        37.145730 -121.985052  37.165850 -121.988062         1.400   \n",
       "3        39.110390 -119.773781  39.110390 -119.773781         0.000   \n",
       "4        26.102942  -80.265091  26.102942  -80.265091         0.000   \n",
       "...            ...         ...        ...         ...           ...   \n",
       "2906605  29.813824  -95.399437  29.813824  -95.399437         0.000   \n",
       "2906606  34.068890 -117.342010  34.068890 -117.342010         0.000   \n",
       "2906607  25.702200  -80.335556  25.703040  -80.334099         0.108   \n",
       "2906608  40.660140 -111.952460  40.660140 -111.952460         0.000   \n",
       "2906609  38.831749 -104.748161  38.831749 -104.748161         0.000   \n",
       "\n",
       "                                               Description  ...  Roundabout  \\\n",
       "0                  Accident on Tanner Rd at Pennbrooke Ln.  ...       False   \n",
       "1        Accident on Houston Branch Rd at Providence Br...  ...       False   \n",
       "2        Stationary traffic on CA-17 from Summit Rd (CA...  ...       False   \n",
       "3               Accident on US-395 Southbound at Topsy Ln.  ...       False   \n",
       "4        Accident on I-595 Westbound at Exit 4 / Pine I...  ...       False   \n",
       "...                                                    ...  ...         ...   \n",
       "2906605                    Accident on 30th St at Yale St.  ...       False   \n",
       "2906606                         At Valley Blvd - Accident.  ...       False   \n",
       "2906607  Stationary traffic on County Hwy-913 - FL-986 ...  ...       False   \n",
       "2906608                 At UT-266/4700/Exit 15 - Accident.  ...       False   \n",
       "2906609               Accident on Murray Blvd at Byron Dr.  ...       False   \n",
       "\n",
       "        Station   Stop Traffic_Calming Traffic_Signal Turning_Loop  \\\n",
       "0         False  False           False          False        False   \n",
       "1         False  False           False          False        False   \n",
       "2         False  False           False          False        False   \n",
       "3         False  False           False           True        False   \n",
       "4         False  False           False           True        False   \n",
       "...         ...    ...             ...            ...          ...   \n",
       "2906605   False   True           False          False        False   \n",
       "2906606   False  False           False          False        False   \n",
       "2906607   False  False           False          False        False   \n",
       "2906608   False  False           False          False        False   \n",
       "2906609   False  False           False           True        False   \n",
       "\n",
       "        Sunrise_Sunset Civil_Twilight Nautical_Twilight Astronomical_Twilight  \n",
       "0                  Day            Day               Day                   Day  \n",
       "1                  Day            Day               Day                   Day  \n",
       "2                Night          Night             Night                 Night  \n",
       "3                  Day            Day               Day                   Day  \n",
       "4                  Day            Day               Day                   Day  \n",
       "...                ...            ...               ...                   ...  \n",
       "2906605            Day            Day               Day                   Day  \n",
       "2906606          Night          Night             Night                 Night  \n",
       "2906607            Day            Day               Day                   Day  \n",
       "2906608          Night          Night             Night                 Night  \n",
       "2906609            Day            Day               Day                   Day  \n",
       "\n",
       "[2906610 rows x 47 columns]"
      ]
     },
     "execution_count": 5,
     "metadata": {},
     "output_type": "execute_result"
    }
   ],
   "source": [
    "df#overview of data"
   ]
  },
  {
   "cell_type": "code",
   "execution_count": 6,
   "id": "c8418449",
   "metadata": {},
   "outputs": [
    {
     "data": {
      "text/plain": [
       "Index(['ID', 'Severity', 'Start_Time', 'End_Time', 'Start_Lat', 'Start_Lng',\n",
       "       'End_Lat', 'End_Lng', 'Distance(mi)', 'Description', 'Number', 'Street',\n",
       "       'Side', 'City', 'County', 'State', 'Zipcode', 'Country', 'Timezone',\n",
       "       'Airport_Code', 'Weather_Timestamp', 'Temperature(F)', 'Wind_Chill(F)',\n",
       "       'Humidity(%)', 'Pressure(in)', 'Visibility(mi)', 'Wind_Direction',\n",
       "       'Wind_Speed(mph)', 'Precipitation(in)', 'Weather_Condition', 'Amenity',\n",
       "       'Bump', 'Crossing', 'Give_Way', 'Junction', 'No_Exit', 'Railway',\n",
       "       'Roundabout', 'Station', 'Stop', 'Traffic_Calming', 'Traffic_Signal',\n",
       "       'Turning_Loop', 'Sunrise_Sunset', 'Civil_Twilight', 'Nautical_Twilight',\n",
       "       'Astronomical_Twilight'],\n",
       "      dtype='object')"
      ]
     },
     "execution_count": 6,
     "metadata": {},
     "output_type": "execute_result"
    }
   ],
   "source": [
    "df.columns #it will show us list of all the columns"
   ]
  },
  {
   "cell_type": "code",
   "execution_count": 7,
   "id": "01358a90",
   "metadata": {},
   "outputs": [
    {
     "name": "stdout",
     "output_type": "stream",
     "text": [
      "<class 'pandas.core.frame.DataFrame'>\n",
      "RangeIndex: 2906610 entries, 0 to 2906609\n",
      "Data columns (total 47 columns):\n",
      " #   Column                 Dtype  \n",
      "---  ------                 -----  \n",
      " 0   ID                     object \n",
      " 1   Severity               int64  \n",
      " 2   Start_Time             object \n",
      " 3   End_Time               object \n",
      " 4   Start_Lat              float64\n",
      " 5   Start_Lng              float64\n",
      " 6   End_Lat                float64\n",
      " 7   End_Lng                float64\n",
      " 8   Distance(mi)           float64\n",
      " 9   Description            object \n",
      " 10  Number                 float64\n",
      " 11  Street                 object \n",
      " 12  Side                   object \n",
      " 13  City                   object \n",
      " 14  County                 object \n",
      " 15  State                  object \n",
      " 16  Zipcode                object \n",
      " 17  Country                object \n",
      " 18  Timezone               object \n",
      " 19  Airport_Code           object \n",
      " 20  Weather_Timestamp      object \n",
      " 21  Temperature(F)         float64\n",
      " 22  Wind_Chill(F)          float64\n",
      " 23  Humidity(%)            float64\n",
      " 24  Pressure(in)           float64\n",
      " 25  Visibility(mi)         float64\n",
      " 26  Wind_Direction         object \n",
      " 27  Wind_Speed(mph)        float64\n",
      " 28  Precipitation(in)      float64\n",
      " 29  Weather_Condition      object \n",
      " 30  Amenity                bool   \n",
      " 31  Bump                   bool   \n",
      " 32  Crossing               bool   \n",
      " 33  Give_Way               bool   \n",
      " 34  Junction               bool   \n",
      " 35  No_Exit                bool   \n",
      " 36  Railway                bool   \n",
      " 37  Roundabout             bool   \n",
      " 38  Station                bool   \n",
      " 39  Stop                   bool   \n",
      " 40  Traffic_Calming        bool   \n",
      " 41  Traffic_Signal         bool   \n",
      " 42  Turning_Loop           bool   \n",
      " 43  Sunrise_Sunset         object \n",
      " 44  Civil_Twilight         object \n",
      " 45  Nautical_Twilight      object \n",
      " 46  Astronomical_Twilight  object \n",
      "dtypes: bool(13), float64(13), int64(1), object(20)\n",
      "memory usage: 790.0+ MB\n"
     ]
    }
   ],
   "source": [
    "df.info()"
   ]
  },
  {
   "cell_type": "code",
   "execution_count": 8,
   "id": "f6912dc0",
   "metadata": {},
   "outputs": [
    {
     "data": {
      "text/html": [
       "<div>\n",
       "<style scoped>\n",
       "    .dataframe tbody tr th:only-of-type {\n",
       "        vertical-align: middle;\n",
       "    }\n",
       "\n",
       "    .dataframe tbody tr th {\n",
       "        vertical-align: top;\n",
       "    }\n",
       "\n",
       "    .dataframe thead th {\n",
       "        text-align: right;\n",
       "    }\n",
       "</style>\n",
       "<table border=\"1\" class=\"dataframe\">\n",
       "  <thead>\n",
       "    <tr style=\"text-align: right;\">\n",
       "      <th></th>\n",
       "      <th>Severity</th>\n",
       "      <th>Start_Lat</th>\n",
       "      <th>Start_Lng</th>\n",
       "      <th>End_Lat</th>\n",
       "      <th>End_Lng</th>\n",
       "      <th>Distance(mi)</th>\n",
       "      <th>Number</th>\n",
       "      <th>Temperature(F)</th>\n",
       "      <th>Wind_Chill(F)</th>\n",
       "      <th>Humidity(%)</th>\n",
       "      <th>Pressure(in)</th>\n",
       "      <th>Visibility(mi)</th>\n",
       "      <th>Wind_Speed(mph)</th>\n",
       "      <th>Precipitation(in)</th>\n",
       "    </tr>\n",
       "  </thead>\n",
       "  <tbody>\n",
       "    <tr>\n",
       "      <th>count</th>\n",
       "      <td>2.906610e+06</td>\n",
       "      <td>2.906610e+06</td>\n",
       "      <td>2.906610e+06</td>\n",
       "      <td>2.623789e+06</td>\n",
       "      <td>2.623789e+06</td>\n",
       "      <td>2.906610e+06</td>\n",
       "      <td>1.014938e+06</td>\n",
       "      <td>2.839386e+06</td>\n",
       "      <td>1.722751e+06</td>\n",
       "      <td>2.835340e+06</td>\n",
       "      <td>2.849702e+06</td>\n",
       "      <td>2.834532e+06</td>\n",
       "      <td>2.599447e+06</td>\n",
       "      <td>1.605284e+06</td>\n",
       "    </tr>\n",
       "    <tr>\n",
       "      <th>mean</th>\n",
       "      <td>2.288649e+00</td>\n",
       "      <td>3.653027e+01</td>\n",
       "      <td>-9.642676e+01</td>\n",
       "      <td>3.651733e+01</td>\n",
       "      <td>-9.620367e+01</td>\n",
       "      <td>3.980541e-01</td>\n",
       "      <td>6.789728e+03</td>\n",
       "      <td>6.098873e+01</td>\n",
       "      <td>5.499048e+01</td>\n",
       "      <td>6.537758e+01</td>\n",
       "      <td>2.965685e+01</td>\n",
       "      <td>9.116766e+00</td>\n",
       "      <td>7.818111e+00</td>\n",
       "      <td>1.119459e-02</td>\n",
       "    </tr>\n",
       "    <tr>\n",
       "      <th>std</th>\n",
       "      <td>5.541618e-01</td>\n",
       "      <td>5.013964e+00</td>\n",
       "      <td>1.775412e+01</td>\n",
       "      <td>5.016609e+00</td>\n",
       "      <td>1.765971e+01</td>\n",
       "      <td>1.592556e+00</td>\n",
       "      <td>1.697225e+04</td>\n",
       "      <td>1.845258e+01</td>\n",
       "      <td>2.219542e+01</td>\n",
       "      <td>2.287854e+01</td>\n",
       "      <td>9.094133e-01</td>\n",
       "      <td>2.837271e+00</td>\n",
       "      <td>5.431171e+00</td>\n",
       "      <td>1.540812e-01</td>\n",
       "    </tr>\n",
       "    <tr>\n",
       "      <th>min</th>\n",
       "      <td>1.000000e+00</td>\n",
       "      <td>2.455527e+01</td>\n",
       "      <td>-1.246238e+02</td>\n",
       "      <td>2.455527e+01</td>\n",
       "      <td>-1.246238e+02</td>\n",
       "      <td>0.000000e+00</td>\n",
       "      <td>0.000000e+00</td>\n",
       "      <td>-8.900000e+01</td>\n",
       "      <td>-8.900000e+01</td>\n",
       "      <td>1.000000e+00</td>\n",
       "      <td>0.000000e+00</td>\n",
       "      <td>0.000000e+00</td>\n",
       "      <td>0.000000e+00</td>\n",
       "      <td>0.000000e+00</td>\n",
       "    </tr>\n",
       "    <tr>\n",
       "      <th>25%</th>\n",
       "      <td>2.000000e+00</td>\n",
       "      <td>3.366453e+01</td>\n",
       "      <td>-1.178232e+02</td>\n",
       "      <td>3.364659e+01</td>\n",
       "      <td>-1.177020e+02</td>\n",
       "      <td>0.000000e+00</td>\n",
       "      <td>9.650000e+02</td>\n",
       "      <td>4.890000e+01</td>\n",
       "      <td>3.900000e+01</td>\n",
       "      <td>4.900000e+01</td>\n",
       "      <td>2.959000e+01</td>\n",
       "      <td>1.000000e+01</td>\n",
       "      <td>4.600000e+00</td>\n",
       "      <td>0.000000e+00</td>\n",
       "    </tr>\n",
       "    <tr>\n",
       "      <th>50%</th>\n",
       "      <td>2.000000e+00</td>\n",
       "      <td>3.609977e+01</td>\n",
       "      <td>-9.116690e+01</td>\n",
       "      <td>3.605898e+01</td>\n",
       "      <td>-9.105163e+01</td>\n",
       "      <td>0.000000e+00</td>\n",
       "      <td>3.093000e+03</td>\n",
       "      <td>6.300000e+01</td>\n",
       "      <td>5.800000e+01</td>\n",
       "      <td>6.800000e+01</td>\n",
       "      <td>2.992000e+01</td>\n",
       "      <td>1.000000e+01</td>\n",
       "      <td>7.000000e+00</td>\n",
       "      <td>0.000000e+00</td>\n",
       "    </tr>\n",
       "    <tr>\n",
       "      <th>75%</th>\n",
       "      <td>3.000000e+00</td>\n",
       "      <td>4.037505e+01</td>\n",
       "      <td>-8.085814e+01</td>\n",
       "      <td>4.033133e+01</td>\n",
       "      <td>-8.084679e+01</td>\n",
       "      <td>2.790000e-01</td>\n",
       "      <td>7.976000e+03</td>\n",
       "      <td>7.500000e+01</td>\n",
       "      <td>7.200000e+01</td>\n",
       "      <td>8.500000e+01</td>\n",
       "      <td>3.007000e+01</td>\n",
       "      <td>1.000000e+01</td>\n",
       "      <td>1.040000e+01</td>\n",
       "      <td>0.000000e+00</td>\n",
       "    </tr>\n",
       "    <tr>\n",
       "      <th>max</th>\n",
       "      <td>4.000000e+00</td>\n",
       "      <td>4.900220e+01</td>\n",
       "      <td>-6.711317e+01</td>\n",
       "      <td>4.907500e+01</td>\n",
       "      <td>-6.710924e+01</td>\n",
       "      <td>3.336300e+02</td>\n",
       "      <td>9.999997e+06</td>\n",
       "      <td>2.030000e+02</td>\n",
       "      <td>1.740000e+02</td>\n",
       "      <td>1.000000e+02</td>\n",
       "      <td>5.804000e+01</td>\n",
       "      <td>1.400000e+02</td>\n",
       "      <td>9.840000e+02</td>\n",
       "      <td>2.400000e+01</td>\n",
       "    </tr>\n",
       "  </tbody>\n",
       "</table>\n",
       "</div>"
      ],
      "text/plain": [
       "           Severity     Start_Lat     Start_Lng       End_Lat       End_Lng  \\\n",
       "count  2.906610e+06  2.906610e+06  2.906610e+06  2.623789e+06  2.623789e+06   \n",
       "mean   2.288649e+00  3.653027e+01 -9.642676e+01  3.651733e+01 -9.620367e+01   \n",
       "std    5.541618e-01  5.013964e+00  1.775412e+01  5.016609e+00  1.765971e+01   \n",
       "min    1.000000e+00  2.455527e+01 -1.246238e+02  2.455527e+01 -1.246238e+02   \n",
       "25%    2.000000e+00  3.366453e+01 -1.178232e+02  3.364659e+01 -1.177020e+02   \n",
       "50%    2.000000e+00  3.609977e+01 -9.116690e+01  3.605898e+01 -9.105163e+01   \n",
       "75%    3.000000e+00  4.037505e+01 -8.085814e+01  4.033133e+01 -8.084679e+01   \n",
       "max    4.000000e+00  4.900220e+01 -6.711317e+01  4.907500e+01 -6.710924e+01   \n",
       "\n",
       "       Distance(mi)        Number  Temperature(F)  Wind_Chill(F)  \\\n",
       "count  2.906610e+06  1.014938e+06    2.839386e+06   1.722751e+06   \n",
       "mean   3.980541e-01  6.789728e+03    6.098873e+01   5.499048e+01   \n",
       "std    1.592556e+00  1.697225e+04    1.845258e+01   2.219542e+01   \n",
       "min    0.000000e+00  0.000000e+00   -8.900000e+01  -8.900000e+01   \n",
       "25%    0.000000e+00  9.650000e+02    4.890000e+01   3.900000e+01   \n",
       "50%    0.000000e+00  3.093000e+03    6.300000e+01   5.800000e+01   \n",
       "75%    2.790000e-01  7.976000e+03    7.500000e+01   7.200000e+01   \n",
       "max    3.336300e+02  9.999997e+06    2.030000e+02   1.740000e+02   \n",
       "\n",
       "        Humidity(%)  Pressure(in)  Visibility(mi)  Wind_Speed(mph)  \\\n",
       "count  2.835340e+06  2.849702e+06    2.834532e+06     2.599447e+06   \n",
       "mean   6.537758e+01  2.965685e+01    9.116766e+00     7.818111e+00   \n",
       "std    2.287854e+01  9.094133e-01    2.837271e+00     5.431171e+00   \n",
       "min    1.000000e+00  0.000000e+00    0.000000e+00     0.000000e+00   \n",
       "25%    4.900000e+01  2.959000e+01    1.000000e+01     4.600000e+00   \n",
       "50%    6.800000e+01  2.992000e+01    1.000000e+01     7.000000e+00   \n",
       "75%    8.500000e+01  3.007000e+01    1.000000e+01     1.040000e+01   \n",
       "max    1.000000e+02  5.804000e+01    1.400000e+02     9.840000e+02   \n",
       "\n",
       "       Precipitation(in)  \n",
       "count       1.605284e+06  \n",
       "mean        1.119459e-02  \n",
       "std         1.540812e-01  \n",
       "min         0.000000e+00  \n",
       "25%         0.000000e+00  \n",
       "50%         0.000000e+00  \n",
       "75%         0.000000e+00  \n",
       "max         2.400000e+01  "
      ]
     },
     "execution_count": 8,
     "metadata": {},
     "output_type": "execute_result"
    }
   ],
   "source": [
    "df.describe()"
   ]
  },
  {
   "cell_type": "code",
   "execution_count": 9,
   "id": "99803ef7",
   "metadata": {},
   "outputs": [
    {
     "data": {
      "text/plain": [
       "14"
      ]
     },
     "execution_count": 9,
     "metadata": {},
     "output_type": "execute_result"
    }
   ],
   "source": [
    "numerics = ['int16', 'int32', 'int64', 'float16', 'float32', 'float64']#way to find no. of  numeric columns in data\n",
    "numeric_df = df.select_dtypes(include=numerics)\n",
    "len(numeric_df.columns)"
   ]
  },
  {
   "cell_type": "code",
   "execution_count": 10,
   "id": "eb7810e6",
   "metadata": {},
   "outputs": [
    {
     "data": {
      "text/html": [
       "<div>\n",
       "<style scoped>\n",
       "    .dataframe tbody tr th:only-of-type {\n",
       "        vertical-align: middle;\n",
       "    }\n",
       "\n",
       "    .dataframe tbody tr th {\n",
       "        vertical-align: top;\n",
       "    }\n",
       "\n",
       "    .dataframe thead th {\n",
       "        text-align: right;\n",
       "    }\n",
       "</style>\n",
       "<table border=\"1\" class=\"dataframe\">\n",
       "  <thead>\n",
       "    <tr style=\"text-align: right;\">\n",
       "      <th></th>\n",
       "      <th>ID</th>\n",
       "      <th>Severity</th>\n",
       "      <th>Start_Time</th>\n",
       "      <th>End_Time</th>\n",
       "      <th>Start_Lat</th>\n",
       "      <th>Start_Lng</th>\n",
       "      <th>End_Lat</th>\n",
       "      <th>End_Lng</th>\n",
       "      <th>Distance(mi)</th>\n",
       "      <th>Description</th>\n",
       "      <th>...</th>\n",
       "      <th>Roundabout</th>\n",
       "      <th>Station</th>\n",
       "      <th>Stop</th>\n",
       "      <th>Traffic_Calming</th>\n",
       "      <th>Traffic_Signal</th>\n",
       "      <th>Turning_Loop</th>\n",
       "      <th>Sunrise_Sunset</th>\n",
       "      <th>Civil_Twilight</th>\n",
       "      <th>Nautical_Twilight</th>\n",
       "      <th>Astronomical_Twilight</th>\n",
       "    </tr>\n",
       "  </thead>\n",
       "  <tbody>\n",
       "    <tr>\n",
       "      <th>0</th>\n",
       "      <td>False</td>\n",
       "      <td>False</td>\n",
       "      <td>False</td>\n",
       "      <td>False</td>\n",
       "      <td>False</td>\n",
       "      <td>False</td>\n",
       "      <td>False</td>\n",
       "      <td>False</td>\n",
       "      <td>False</td>\n",
       "      <td>False</td>\n",
       "      <td>...</td>\n",
       "      <td>False</td>\n",
       "      <td>False</td>\n",
       "      <td>False</td>\n",
       "      <td>False</td>\n",
       "      <td>False</td>\n",
       "      <td>False</td>\n",
       "      <td>False</td>\n",
       "      <td>False</td>\n",
       "      <td>False</td>\n",
       "      <td>False</td>\n",
       "    </tr>\n",
       "    <tr>\n",
       "      <th>1</th>\n",
       "      <td>False</td>\n",
       "      <td>False</td>\n",
       "      <td>False</td>\n",
       "      <td>False</td>\n",
       "      <td>False</td>\n",
       "      <td>False</td>\n",
       "      <td>False</td>\n",
       "      <td>False</td>\n",
       "      <td>False</td>\n",
       "      <td>False</td>\n",
       "      <td>...</td>\n",
       "      <td>False</td>\n",
       "      <td>False</td>\n",
       "      <td>False</td>\n",
       "      <td>False</td>\n",
       "      <td>False</td>\n",
       "      <td>False</td>\n",
       "      <td>False</td>\n",
       "      <td>False</td>\n",
       "      <td>False</td>\n",
       "      <td>False</td>\n",
       "    </tr>\n",
       "    <tr>\n",
       "      <th>2</th>\n",
       "      <td>False</td>\n",
       "      <td>False</td>\n",
       "      <td>False</td>\n",
       "      <td>False</td>\n",
       "      <td>False</td>\n",
       "      <td>False</td>\n",
       "      <td>False</td>\n",
       "      <td>False</td>\n",
       "      <td>False</td>\n",
       "      <td>False</td>\n",
       "      <td>...</td>\n",
       "      <td>False</td>\n",
       "      <td>False</td>\n",
       "      <td>False</td>\n",
       "      <td>False</td>\n",
       "      <td>False</td>\n",
       "      <td>False</td>\n",
       "      <td>False</td>\n",
       "      <td>False</td>\n",
       "      <td>False</td>\n",
       "      <td>False</td>\n",
       "    </tr>\n",
       "    <tr>\n",
       "      <th>3</th>\n",
       "      <td>False</td>\n",
       "      <td>False</td>\n",
       "      <td>False</td>\n",
       "      <td>False</td>\n",
       "      <td>False</td>\n",
       "      <td>False</td>\n",
       "      <td>False</td>\n",
       "      <td>False</td>\n",
       "      <td>False</td>\n",
       "      <td>False</td>\n",
       "      <td>...</td>\n",
       "      <td>False</td>\n",
       "      <td>False</td>\n",
       "      <td>False</td>\n",
       "      <td>False</td>\n",
       "      <td>False</td>\n",
       "      <td>False</td>\n",
       "      <td>False</td>\n",
       "      <td>False</td>\n",
       "      <td>False</td>\n",
       "      <td>False</td>\n",
       "    </tr>\n",
       "    <tr>\n",
       "      <th>4</th>\n",
       "      <td>False</td>\n",
       "      <td>False</td>\n",
       "      <td>False</td>\n",
       "      <td>False</td>\n",
       "      <td>False</td>\n",
       "      <td>False</td>\n",
       "      <td>False</td>\n",
       "      <td>False</td>\n",
       "      <td>False</td>\n",
       "      <td>False</td>\n",
       "      <td>...</td>\n",
       "      <td>False</td>\n",
       "      <td>False</td>\n",
       "      <td>False</td>\n",
       "      <td>False</td>\n",
       "      <td>False</td>\n",
       "      <td>False</td>\n",
       "      <td>False</td>\n",
       "      <td>False</td>\n",
       "      <td>False</td>\n",
       "      <td>False</td>\n",
       "    </tr>\n",
       "    <tr>\n",
       "      <th>...</th>\n",
       "      <td>...</td>\n",
       "      <td>...</td>\n",
       "      <td>...</td>\n",
       "      <td>...</td>\n",
       "      <td>...</td>\n",
       "      <td>...</td>\n",
       "      <td>...</td>\n",
       "      <td>...</td>\n",
       "      <td>...</td>\n",
       "      <td>...</td>\n",
       "      <td>...</td>\n",
       "      <td>...</td>\n",
       "      <td>...</td>\n",
       "      <td>...</td>\n",
       "      <td>...</td>\n",
       "      <td>...</td>\n",
       "      <td>...</td>\n",
       "      <td>...</td>\n",
       "      <td>...</td>\n",
       "      <td>...</td>\n",
       "      <td>...</td>\n",
       "    </tr>\n",
       "    <tr>\n",
       "      <th>2906605</th>\n",
       "      <td>False</td>\n",
       "      <td>False</td>\n",
       "      <td>False</td>\n",
       "      <td>False</td>\n",
       "      <td>False</td>\n",
       "      <td>False</td>\n",
       "      <td>False</td>\n",
       "      <td>False</td>\n",
       "      <td>False</td>\n",
       "      <td>False</td>\n",
       "      <td>...</td>\n",
       "      <td>False</td>\n",
       "      <td>False</td>\n",
       "      <td>False</td>\n",
       "      <td>False</td>\n",
       "      <td>False</td>\n",
       "      <td>False</td>\n",
       "      <td>False</td>\n",
       "      <td>False</td>\n",
       "      <td>False</td>\n",
       "      <td>False</td>\n",
       "    </tr>\n",
       "    <tr>\n",
       "      <th>2906606</th>\n",
       "      <td>False</td>\n",
       "      <td>False</td>\n",
       "      <td>False</td>\n",
       "      <td>False</td>\n",
       "      <td>False</td>\n",
       "      <td>False</td>\n",
       "      <td>False</td>\n",
       "      <td>False</td>\n",
       "      <td>False</td>\n",
       "      <td>False</td>\n",
       "      <td>...</td>\n",
       "      <td>False</td>\n",
       "      <td>False</td>\n",
       "      <td>False</td>\n",
       "      <td>False</td>\n",
       "      <td>False</td>\n",
       "      <td>False</td>\n",
       "      <td>False</td>\n",
       "      <td>False</td>\n",
       "      <td>False</td>\n",
       "      <td>False</td>\n",
       "    </tr>\n",
       "    <tr>\n",
       "      <th>2906607</th>\n",
       "      <td>False</td>\n",
       "      <td>False</td>\n",
       "      <td>False</td>\n",
       "      <td>False</td>\n",
       "      <td>False</td>\n",
       "      <td>False</td>\n",
       "      <td>False</td>\n",
       "      <td>False</td>\n",
       "      <td>False</td>\n",
       "      <td>False</td>\n",
       "      <td>...</td>\n",
       "      <td>False</td>\n",
       "      <td>False</td>\n",
       "      <td>False</td>\n",
       "      <td>False</td>\n",
       "      <td>False</td>\n",
       "      <td>False</td>\n",
       "      <td>False</td>\n",
       "      <td>False</td>\n",
       "      <td>False</td>\n",
       "      <td>False</td>\n",
       "    </tr>\n",
       "    <tr>\n",
       "      <th>2906608</th>\n",
       "      <td>False</td>\n",
       "      <td>False</td>\n",
       "      <td>False</td>\n",
       "      <td>False</td>\n",
       "      <td>False</td>\n",
       "      <td>False</td>\n",
       "      <td>False</td>\n",
       "      <td>False</td>\n",
       "      <td>False</td>\n",
       "      <td>False</td>\n",
       "      <td>...</td>\n",
       "      <td>False</td>\n",
       "      <td>False</td>\n",
       "      <td>False</td>\n",
       "      <td>False</td>\n",
       "      <td>False</td>\n",
       "      <td>False</td>\n",
       "      <td>False</td>\n",
       "      <td>False</td>\n",
       "      <td>False</td>\n",
       "      <td>False</td>\n",
       "    </tr>\n",
       "    <tr>\n",
       "      <th>2906609</th>\n",
       "      <td>False</td>\n",
       "      <td>False</td>\n",
       "      <td>False</td>\n",
       "      <td>False</td>\n",
       "      <td>False</td>\n",
       "      <td>False</td>\n",
       "      <td>False</td>\n",
       "      <td>False</td>\n",
       "      <td>False</td>\n",
       "      <td>False</td>\n",
       "      <td>...</td>\n",
       "      <td>False</td>\n",
       "      <td>False</td>\n",
       "      <td>False</td>\n",
       "      <td>False</td>\n",
       "      <td>False</td>\n",
       "      <td>False</td>\n",
       "      <td>False</td>\n",
       "      <td>False</td>\n",
       "      <td>False</td>\n",
       "      <td>False</td>\n",
       "    </tr>\n",
       "  </tbody>\n",
       "</table>\n",
       "<p>2906610 rows × 47 columns</p>\n",
       "</div>"
      ],
      "text/plain": [
       "            ID  Severity  Start_Time  End_Time  Start_Lat  Start_Lng  End_Lat  \\\n",
       "0        False     False       False     False      False      False    False   \n",
       "1        False     False       False     False      False      False    False   \n",
       "2        False     False       False     False      False      False    False   \n",
       "3        False     False       False     False      False      False    False   \n",
       "4        False     False       False     False      False      False    False   \n",
       "...        ...       ...         ...       ...        ...        ...      ...   \n",
       "2906605  False     False       False     False      False      False    False   \n",
       "2906606  False     False       False     False      False      False    False   \n",
       "2906607  False     False       False     False      False      False    False   \n",
       "2906608  False     False       False     False      False      False    False   \n",
       "2906609  False     False       False     False      False      False    False   \n",
       "\n",
       "         End_Lng  Distance(mi)  Description  ...  Roundabout  Station   Stop  \\\n",
       "0          False         False        False  ...       False    False  False   \n",
       "1          False         False        False  ...       False    False  False   \n",
       "2          False         False        False  ...       False    False  False   \n",
       "3          False         False        False  ...       False    False  False   \n",
       "4          False         False        False  ...       False    False  False   \n",
       "...          ...           ...          ...  ...         ...      ...    ...   \n",
       "2906605    False         False        False  ...       False    False  False   \n",
       "2906606    False         False        False  ...       False    False  False   \n",
       "2906607    False         False        False  ...       False    False  False   \n",
       "2906608    False         False        False  ...       False    False  False   \n",
       "2906609    False         False        False  ...       False    False  False   \n",
       "\n",
       "         Traffic_Calming  Traffic_Signal  Turning_Loop  Sunrise_Sunset  \\\n",
       "0                  False           False         False           False   \n",
       "1                  False           False         False           False   \n",
       "2                  False           False         False           False   \n",
       "3                  False           False         False           False   \n",
       "4                  False           False         False           False   \n",
       "...                  ...             ...           ...             ...   \n",
       "2906605            False           False         False           False   \n",
       "2906606            False           False         False           False   \n",
       "2906607            False           False         False           False   \n",
       "2906608            False           False         False           False   \n",
       "2906609            False           False         False           False   \n",
       "\n",
       "         Civil_Twilight  Nautical_Twilight  Astronomical_Twilight  \n",
       "0                 False              False                  False  \n",
       "1                 False              False                  False  \n",
       "2                 False              False                  False  \n",
       "3                 False              False                  False  \n",
       "4                 False              False                  False  \n",
       "...                 ...                ...                    ...  \n",
       "2906605           False              False                  False  \n",
       "2906606           False              False                  False  \n",
       "2906607           False              False                  False  \n",
       "2906608           False              False                  False  \n",
       "2906609           False              False                  False  \n",
       "\n",
       "[2906610 rows x 47 columns]"
      ]
     },
     "execution_count": 10,
     "metadata": {},
     "output_type": "execute_result"
    }
   ],
   "source": [
    "#finding missing values\n",
    "df.isna()"
   ]
  },
  {
   "cell_type": "code",
   "execution_count": 11,
   "id": "d6786c99",
   "metadata": {},
   "outputs": [
    {
     "data": {
      "text/plain": [
       "ID                             0\n",
       "Severity                       0\n",
       "Start_Time                     0\n",
       "End_Time                       0\n",
       "Start_Lat                      0\n",
       "Start_Lng                      0\n",
       "End_Lat                   282821\n",
       "End_Lng                   282821\n",
       "Distance(mi)                   0\n",
       "Description                    0\n",
       "Number                   1891672\n",
       "Street                         0\n",
       "Side                           0\n",
       "City                         108\n",
       "County                         0\n",
       "State                          0\n",
       "Zipcode                     1114\n",
       "Country                        0\n",
       "Timezone                    3430\n",
       "Airport_Code                6608\n",
       "Weather_Timestamp          46917\n",
       "Temperature(F)             67224\n",
       "Wind_Chill(F)            1183859\n",
       "Humidity(%)                71270\n",
       "Pressure(in)               56908\n",
       "Visibility(mi)             72078\n",
       "Wind_Direction             63474\n",
       "Wind_Speed(mph)           307163\n",
       "Precipitation(in)        1301326\n",
       "Weather_Condition          71851\n",
       "Amenity                        0\n",
       "Bump                           0\n",
       "Crossing                       0\n",
       "Give_Way                       0\n",
       "Junction                       0\n",
       "No_Exit                        0\n",
       "Railway                        0\n",
       "Roundabout                     0\n",
       "Station                        0\n",
       "Stop                           0\n",
       "Traffic_Calming                0\n",
       "Traffic_Signal                 0\n",
       "Turning_Loop                   0\n",
       "Sunrise_Sunset               110\n",
       "Civil_Twilight               110\n",
       "Nautical_Twilight            110\n",
       "Astronomical_Twilight        110\n",
       "dtype: int64"
      ]
     },
     "execution_count": 11,
     "metadata": {},
     "output_type": "execute_result"
    }
   ],
   "source": [
    "df.isna().sum()#it will give per column count of missing values"
   ]
  },
  {
   "cell_type": "code",
   "execution_count": 12,
   "id": "7b88489a",
   "metadata": {},
   "outputs": [
    {
     "data": {
      "text/plain": [
       "Number                   1891672\n",
       "Precipitation(in)        1301326\n",
       "Wind_Chill(F)            1183859\n",
       "Wind_Speed(mph)           307163\n",
       "End_Lat                   282821\n",
       "End_Lng                   282821\n",
       "Visibility(mi)             72078\n",
       "Weather_Condition          71851\n",
       "Humidity(%)                71270\n",
       "Temperature(F)             67224\n",
       "Wind_Direction             63474\n",
       "Pressure(in)               56908\n",
       "Weather_Timestamp          46917\n",
       "Airport_Code                6608\n",
       "Timezone                    3430\n",
       "Zipcode                     1114\n",
       "Sunrise_Sunset               110\n",
       "Civil_Twilight               110\n",
       "Nautical_Twilight            110\n",
       "Astronomical_Twilight        110\n",
       "City                         108\n",
       "Country                        0\n",
       "Junction                       0\n",
       "Start_Time                     0\n",
       "End_Time                       0\n",
       "Start_Lat                      0\n",
       "Turning_Loop                   0\n",
       "Traffic_Signal                 0\n",
       "Traffic_Calming                0\n",
       "Stop                           0\n",
       "Station                        0\n",
       "Roundabout                     0\n",
       "Railway                        0\n",
       "No_Exit                        0\n",
       "Give_Way                       0\n",
       "State                          0\n",
       "Crossing                       0\n",
       "Bump                           0\n",
       "Amenity                        0\n",
       "Start_Lng                      0\n",
       "Distance(mi)                   0\n",
       "Description                    0\n",
       "Street                         0\n",
       "Side                           0\n",
       "Severity                       0\n",
       "County                         0\n",
       "ID                             0\n",
       "dtype: int64"
      ]
     },
     "execution_count": 12,
     "metadata": {},
     "output_type": "execute_result"
    }
   ],
   "source": [
    "df.isna().sum().sort_values(ascending=False)#sort the coulmns in descending order if you want it in asc order replace false with true"
   ]
  },
  {
   "cell_type": "code",
   "execution_count": 13,
   "id": "e540a978",
   "metadata": {},
   "outputs": [
    {
     "data": {
      "text/plain": [
       "Number                   0.650817\n",
       "Precipitation(in)        0.447713\n",
       "Wind_Chill(F)            0.407299\n",
       "Wind_Speed(mph)          0.105677\n",
       "End_Lat                  0.097303\n",
       "End_Lng                  0.097303\n",
       "Visibility(mi)           0.024798\n",
       "Weather_Condition        0.024720\n",
       "Humidity(%)              0.024520\n",
       "Temperature(F)           0.023128\n",
       "Wind_Direction           0.021838\n",
       "Pressure(in)             0.019579\n",
       "Weather_Timestamp        0.016141\n",
       "Airport_Code             0.002273\n",
       "Timezone                 0.001180\n",
       "Zipcode                  0.000383\n",
       "Sunrise_Sunset           0.000038\n",
       "Civil_Twilight           0.000038\n",
       "Nautical_Twilight        0.000038\n",
       "Astronomical_Twilight    0.000038\n",
       "City                     0.000037\n",
       "Country                  0.000000\n",
       "Junction                 0.000000\n",
       "Start_Time               0.000000\n",
       "End_Time                 0.000000\n",
       "Start_Lat                0.000000\n",
       "Turning_Loop             0.000000\n",
       "Traffic_Signal           0.000000\n",
       "Traffic_Calming          0.000000\n",
       "Stop                     0.000000\n",
       "Station                  0.000000\n",
       "Roundabout               0.000000\n",
       "Railway                  0.000000\n",
       "No_Exit                  0.000000\n",
       "Give_Way                 0.000000\n",
       "State                    0.000000\n",
       "Crossing                 0.000000\n",
       "Bump                     0.000000\n",
       "Amenity                  0.000000\n",
       "Start_Lng                0.000000\n",
       "Distance(mi)             0.000000\n",
       "Description              0.000000\n",
       "Street                   0.000000\n",
       "Side                     0.000000\n",
       "Severity                 0.000000\n",
       "County                   0.000000\n",
       "ID                       0.000000\n",
       "dtype: float64"
      ]
     },
     "execution_count": 13,
     "metadata": {},
     "output_type": "execute_result"
    }
   ],
   "source": [
    "#missing percentages len(df)=no of rows in dataframe\n",
    "missing_percentage=df.isna().sum().sort_values(ascending=False)/len(df)\n",
    "missing_percentage"
   ]
  },
  {
   "cell_type": "code",
   "execution_count": 14,
   "id": "611b01f0",
   "metadata": {},
   "outputs": [
    {
     "data": {
      "text/plain": [
       "<AxesSubplot:>"
      ]
     },
     "execution_count": 14,
     "metadata": {},
     "output_type": "execute_result"
    },
    {
     "data": {
      "image/png": "[encoded data removed]",
      "text/plain": [
       "<Figure size 432x288 with 1 Axes>"
      ]
     },
     "metadata": {
      "needs_background": "light"
     },
     "output_type": "display_data"
    }
   ],
   "source": [
    "#to see missing percentages as a graph \n",
    "missing_percentage.plot(kind='bar')"
   ]
  },
  {
   "cell_type": "code",
   "execution_count": 15,
   "id": "7beff393",
   "metadata": {},
   "outputs": [],
   "source": [
    "#from this missing percentages series we removing that do not have missing values"
   ]
  },
  {
   "cell_type": "code",
   "execution_count": 16,
   "id": "ca82f32a",
   "metadata": {},
   "outputs": [
    {
     "data": {
      "text/plain": [
       "Number                    True\n",
       "Precipitation(in)         True\n",
       "Wind_Chill(F)             True\n",
       "Wind_Speed(mph)           True\n",
       "End_Lat                   True\n",
       "End_Lng                   True\n",
       "Visibility(mi)            True\n",
       "Weather_Condition         True\n",
       "Humidity(%)               True\n",
       "Temperature(F)            True\n",
       "Wind_Direction            True\n",
       "Pressure(in)              True\n",
       "Weather_Timestamp         True\n",
       "Airport_Code              True\n",
       "Timezone                  True\n",
       "Zipcode                   True\n",
       "Sunrise_Sunset            True\n",
       "Civil_Twilight            True\n",
       "Nautical_Twilight         True\n",
       "Astronomical_Twilight     True\n",
       "City                      True\n",
       "Country                  False\n",
       "Junction                 False\n",
       "Start_Time               False\n",
       "End_Time                 False\n",
       "Start_Lat                False\n",
       "Turning_Loop             False\n",
       "Traffic_Signal           False\n",
       "Traffic_Calming          False\n",
       "Stop                     False\n",
       "Station                  False\n",
       "Roundabout               False\n",
       "Railway                  False\n",
       "No_Exit                  False\n",
       "Give_Way                 False\n",
       "State                    False\n",
       "Crossing                 False\n",
       "Bump                     False\n",
       "Amenity                  False\n",
       "Start_Lng                False\n",
       "Distance(mi)             False\n",
       "Description              False\n",
       "Street                   False\n",
       "Side                     False\n",
       "Severity                 False\n",
       "County                   False\n",
       "ID                       False\n",
       "dtype: bool"
      ]
     },
     "execution_count": 16,
     "metadata": {},
     "output_type": "execute_result"
    }
   ],
   "source": [
    "missing_percentage!=0"
   ]
  },
  {
   "cell_type": "code",
   "execution_count": 17,
   "id": "c647f4a9",
   "metadata": {},
   "outputs": [
    {
     "data": {
      "text/plain": [
       "Number                   0.650817\n",
       "Precipitation(in)        0.447713\n",
       "Wind_Chill(F)            0.407299\n",
       "Wind_Speed(mph)          0.105677\n",
       "End_Lat                  0.097303\n",
       "End_Lng                  0.097303\n",
       "Visibility(mi)           0.024798\n",
       "Weather_Condition        0.024720\n",
       "Humidity(%)              0.024520\n",
       "Temperature(F)           0.023128\n",
       "Wind_Direction           0.021838\n",
       "Pressure(in)             0.019579\n",
       "Weather_Timestamp        0.016141\n",
       "Airport_Code             0.002273\n",
       "Timezone                 0.001180\n",
       "Zipcode                  0.000383\n",
       "Sunrise_Sunset           0.000038\n",
       "Civil_Twilight           0.000038\n",
       "Nautical_Twilight        0.000038\n",
       "Astronomical_Twilight    0.000038\n",
       "City                     0.000037\n",
       "dtype: float64"
      ]
     },
     "execution_count": 17,
     "metadata": {},
     "output_type": "execute_result"
    }
   ],
   "source": [
    "missing_percentage[missing_percentage!=0]"
   ]
  },
  {
   "cell_type": "code",
   "execution_count": 18,
   "id": "8a737ed5",
   "metadata": {},
   "outputs": [
    {
     "data": {
      "text/plain": [
       "<AxesSubplot:>"
      ]
     },
     "execution_count": 18,
     "metadata": {},
     "output_type": "execute_result"
    },
    {
     "data": {
      "image/png": "[encoded data removed]",
      "text/plain": [
       "<Figure size 432x288 with 1 Axes>"
      ]
     },
     "metadata": {
      "needs_background": "light"
     },
     "output_type": "display_data"
    }
   ],
   "source": [
    "missing_percentage[missing_percentage!=0].plot(kind='bar')"
   ]
  },
  {
   "cell_type": "code",
   "execution_count": 19,
   "id": "2ee7cc0b",
   "metadata": {},
   "outputs": [
    {
     "data": {
      "text/plain": [
       "Number                   0.650817\n",
       "Precipitation(in)        0.447713\n",
       "Wind_Chill(F)            0.407299\n",
       "Wind_Speed(mph)          0.105677\n",
       "Visibility(mi)           0.024798\n",
       "Weather_Condition        0.024720\n",
       "Humidity(%)              0.024520\n",
       "Temperature(F)           0.023128\n",
       "Wind_Direction           0.021838\n",
       "Pressure(in)             0.019579\n",
       "Weather_Timestamp        0.016141\n",
       "Airport_Code             0.002273\n",
       "Timezone                 0.001180\n",
       "Zipcode                  0.000383\n",
       "Sunrise_Sunset           0.000038\n",
       "Civil_Twilight           0.000038\n",
       "Nautical_Twilight        0.000038\n",
       "Astronomical_Twilight    0.000038\n",
       "City                     0.000037\n",
       "Country                  0.000000\n",
       "Junction                 0.000000\n",
       "Start_Time               0.000000\n",
       "End_Time                 0.000000\n",
       "Start_Lat                0.000000\n",
       "Turning_Loop             0.000000\n",
       "Traffic_Signal           0.000000\n",
       "Traffic_Calming          0.000000\n",
       "Stop                     0.000000\n",
       "Station                  0.000000\n",
       "Roundabout               0.000000\n",
       "Railway                  0.000000\n",
       "No_Exit                  0.000000\n",
       "Give_Way                 0.000000\n",
       "State                    0.000000\n",
       "Crossing                 0.000000\n",
       "Bump                     0.000000\n",
       "Amenity                  0.000000\n",
       "Start_Lng                0.000000\n",
       "Distance(mi)             0.000000\n",
       "Description              0.000000\n",
       "Street                   0.000000\n",
       "Side                     0.000000\n",
       "Severity                 0.000000\n",
       "County                   0.000000\n",
       "ID                       0.000000\n",
       "dtype: float64"
      ]
     },
     "execution_count": 19,
     "metadata": {},
     "output_type": "execute_result"
    }
   ],
   "source": [
    "#remove columns that you don't want to use using drop\n",
    "missing_percentage.drop(['End_Lat','End_Lng'])"
   ]
  },
  {
   "cell_type": "code",
   "execution_count": 20,
   "id": "becc0695",
   "metadata": {},
   "outputs": [],
   "source": [
    "#look each column and see does it make sense "
   ]
  },
  {
   "cell_type": "markdown",
   "id": "522591c0",
   "metadata": {},
   "source": [
    "# exploratory analysis and visualization\n"
   ]
  },
  {
   "cell_type": "code",
   "execution_count": 21,
   "id": "167b0bba",
   "metadata": {},
   "outputs": [],
   "source": [
    "#we will pick 4 or 5 columns and we will plot graph for them and see what they look like"
   ]
  },
  {
   "cell_type": "code",
   "execution_count": 22,
   "id": "68ff350b",
   "metadata": {},
   "outputs": [
    {
     "data": {
      "text/plain": [
       "Index(['ID', 'Severity', 'Start_Time', 'End_Time', 'Start_Lat', 'Start_Lng',\n",
       "       'End_Lat', 'End_Lng', 'Distance(mi)', 'Description', 'Number', 'Street',\n",
       "       'Side', 'City', 'County', 'State', 'Zipcode', 'Country', 'Timezone',\n",
       "       'Airport_Code', 'Weather_Timestamp', 'Temperature(F)', 'Wind_Chill(F)',\n",
       "       'Humidity(%)', 'Pressure(in)', 'Visibility(mi)', 'Wind_Direction',\n",
       "       'Wind_Speed(mph)', 'Precipitation(in)', 'Weather_Condition', 'Amenity',\n",
       "       'Bump', 'Crossing', 'Give_Way', 'Junction', 'No_Exit', 'Railway',\n",
       "       'Roundabout', 'Station', 'Stop', 'Traffic_Calming', 'Traffic_Signal',\n",
       "       'Turning_Loop', 'Sunrise_Sunset', 'Civil_Twilight', 'Nautical_Twilight',\n",
       "       'Astronomical_Twilight'],\n",
       "      dtype='object')"
      ]
     },
     "execution_count": 22,
     "metadata": {},
     "output_type": "execute_result"
    }
   ],
   "source": [
    "df.columns"
   ]
  },
  {
   "cell_type": "code",
   "execution_count": 23,
   "id": "631f10b1",
   "metadata": {},
   "outputs": [
    {
     "data": {
      "text/plain": [
       "'\"1.city\\n2.start time\\n3.start_lng,start_lat\\n4.temperature\\n5.weather_condition'"
      ]
     },
     "execution_count": 23,
     "metadata": {},
     "output_type": "execute_result"
    }
   ],
   "source": [
    "#columns we will analyze(pick some numerical columns)read about those columns from where you got this data \n",
    "\"\"\"\"1.city\n",
    "2.start time\n",
    "3.start_lng,start_lat\n",
    "4.temperature\n",
    "5.weather_condition\"\"\""
   ]
  },
  {
   "cell_type": "code",
   "execution_count": 24,
   "id": "cd39c7d1",
   "metadata": {},
   "outputs": [
    {
     "data": {
      "text/plain": [
       "0                Greenville\n",
       "1                 Charlotte\n",
       "2                 Los Gatos\n",
       "3               Carson City\n",
       "4           Fort Lauderdale\n",
       "                 ...       \n",
       "2906605             Houston\n",
       "2906606              Colton\n",
       "2906607               Miami\n",
       "2906608      Salt Lake City\n",
       "2906609    Colorado Springs\n",
       "Name: City, Length: 2906610, dtype: object"
      ]
     },
     "execution_count": 24,
     "metadata": {},
     "output_type": "execute_result"
    }
   ],
   "source": [
    "#start with city\n",
    "df.City"
   ]
  },
  {
   "cell_type": "code",
   "execution_count": 25,
   "id": "21ef3292",
   "metadata": {},
   "outputs": [
    {
     "data": {
      "text/plain": [
       "11790"
      ]
     },
     "execution_count": 25,
     "metadata": {},
     "output_type": "execute_result"
    }
   ],
   "source": [
    "cities=df.City.unique()\n",
    "len(cities)"
   ]
  },
  {
   "cell_type": "code",
   "execution_count": 26,
   "id": "c461fdfa",
   "metadata": {},
   "outputs": [
    {
     "data": {
      "text/plain": [
       "Los Angeles           68411\n",
       "Houston               68265\n",
       "Charlotte             56176\n",
       "Miami                 49965\n",
       "Dallas                48525\n",
       "                      ...  \n",
       "Jud                       1\n",
       "Greenview                 1\n",
       "Wainscott                 1\n",
       "Key Colony Beach          1\n",
       "Wrightsville Beach        1\n",
       "Name: City, Length: 11789, dtype: int64"
      ]
     },
     "execution_count": 26,
     "metadata": {},
     "output_type": "execute_result"
    }
   ],
   "source": [
    "cities_by_accident=df.City.value_counts()\n",
    "cities_by_accident"
   ]
  },
  {
   "cell_type": "code",
   "execution_count": 27,
   "id": "4394f77e",
   "metadata": {},
   "outputs": [
    {
     "data": {
      "text/plain": [
       "Los Angeles      68411\n",
       "Houston          68265\n",
       "Charlotte        56176\n",
       "Miami            49965\n",
       "Dallas           48525\n",
       "Austin           38808\n",
       "Raleigh          31355\n",
       "Atlanta          29244\n",
       "Sacramento       28984\n",
       "Orlando          28092\n",
       "Nashville        25277\n",
       "Baton Rouge      25080\n",
       "Minneapolis      22469\n",
       "San Diego        22329\n",
       "Phoenix          21370\n",
       "Oklahoma City    21292\n",
       "Portland         19432\n",
       "Richmond         18343\n",
       "Seattle          17384\n",
       "Saint Paul       17266\n",
       "Name: City, dtype: int64"
      ]
     },
     "execution_count": 27,
     "metadata": {},
     "output_type": "execute_result"
    }
   ],
   "source": [
    "cities_by_accident[:20]#top 10 cities by accident"
   ]
  },
  {
   "cell_type": "code",
   "execution_count": 28,
   "id": "212d6ad5",
   "metadata": {},
   "outputs": [
    {
     "data": {
      "text/plain": [
       "False"
      ]
     },
     "execution_count": 28,
     "metadata": {},
     "output_type": "execute_result"
    }
   ],
   "source": [
    "#checking whether new york is present\n",
    "#pandas check if a value exist in column\n",
    "'New York' in df.City"
   ]
  },
  {
   "cell_type": "code",
   "execution_count": 29,
   "id": "1650ec2f",
   "metadata": {},
   "outputs": [
    {
     "data": {
      "text/plain": [
       "<AxesSubplot:>"
      ]
     },
     "execution_count": 29,
     "metadata": {},
     "output_type": "execute_result"
    },
    {
     "data": {
      "image/png": "[encoded data removed]",
      "text/plain": [
       "<Figure size 432x288 with 1 Axes>"
      ]
     },
     "metadata": {
      "needs_background": "light"
     },
     "output_type": "display_data"
    }
   ],
   "source": [
    "#new york data not present in our data \n",
    "cities_by_accident[:20].plot(kind='bar')"
   ]
  },
  {
   "cell_type": "code",
   "execution_count": 30,
   "id": "b82ed9e5",
   "metadata": {},
   "outputs": [],
   "source": [
    "#which state have the most no. of accident?\n",
    "#how the accident distribution looks like does the lot of  cities have high nummber rof accidents or low number of accidents\n",
    "#use histogram plot in this case\n",
    "import seaborn as sns\n",
    "\n"
   ]
  },
  {
   "cell_type": "code",
   "execution_count": 31,
   "id": "ef7a3d59",
   "metadata": {},
   "outputs": [],
   "source": [
    "sns.set_style('darkgrid')"
   ]
  },
  {
   "cell_type": "code",
   "execution_count": 32,
   "id": "2e3031b7",
   "metadata": {},
   "outputs": [
    {
     "data": {
      "text/plain": [
       "<AxesSubplot:xlabel='City', ylabel='Count'>"
      ]
     },
     "execution_count": 32,
     "metadata": {},
     "output_type": "execute_result"
    },
    {
     "data": {
      "image/png": "[encoded data removed]",
      "text/plain": [
       "<Figure size 432x288 with 1 Axes>"
      ]
     },
     "metadata": {},
     "output_type": "display_data"
    }
   ],
   "source": [
    "sns.histplot(cities_by_accident,log_scale=True)"
   ]
  },
  {
   "cell_type": "code",
   "execution_count": 33,
   "id": "ef9651a4",
   "metadata": {},
   "outputs": [],
   "source": [
    "high_accident_cities=cities_by_accident[cities_by_accident>=1000]\n",
    "low_accident_cities=cities_by_accident[cities_by_accident<1000]"
   ]
  },
  {
   "cell_type": "code",
   "execution_count": 34,
   "id": "e82f8aa0",
   "metadata": {},
   "outputs": [
    {
     "data": {
      "text/plain": [
       "0.04351145038167939"
      ]
     },
     "execution_count": 34,
     "metadata": {},
     "output_type": "execute_result"
    }
   ],
   "source": [
    "len(high_accident_cities)/len(cities) #PERCENTAGE OF CITIES WITH HIGH ACCIDENT"
   ]
  },
  {
   "cell_type": "code",
   "execution_count": 35,
   "id": "7add032f",
   "metadata": {},
   "outputs": [
    {
     "data": {
      "text/plain": [
       "<seaborn.axisgrid.FacetGrid at 0x1f9cc0b2a30>"
      ]
     },
     "execution_count": 35,
     "metadata": {},
     "output_type": "execute_result"
    },
    {
     "data": {
      "image/png": "[encoded data removed]",
      "text/plain": [
       "<Figure size 360x360 with 1 Axes>"
      ]
     },
     "metadata": {},
     "output_type": "display_data"
    }
   ],
   "source": [
    "sns.displot(high_accident_cities)"
   ]
  },
  {
   "cell_type": "code",
   "execution_count": 36,
   "id": "40c581f6",
   "metadata": {},
   "outputs": [
    {
     "data": {
      "text/plain": [
       "South Abington Township    1\n",
       "Greenback                  1\n",
       "Scotland                   1\n",
       "Tatum                      1\n",
       "Tompkinsville              1\n",
       "                          ..\n",
       "Jud                        1\n",
       "Greenview                  1\n",
       "Wainscott                  1\n",
       "Key Colony Beach           1\n",
       "Wrightsville Beach         1\n",
       "Name: City, Length: 1306, dtype: int64"
      ]
     },
     "execution_count": 36,
     "metadata": {},
     "output_type": "execute_result"
    }
   ],
   "source": [
    "cities_by_accident[cities_by_accident==1]#you can ignore such values which have such lower accident there might be a possibiiteies of incorrect data"
   ]
  },
  {
   "cell_type": "markdown",
   "id": "eaa70954",
   "metadata": {},
   "source": [
    "analysis on start time column"
   ]
  },
  {
   "cell_type": "code",
   "execution_count": 37,
   "id": "24b41da3",
   "metadata": {},
   "outputs": [
    {
     "data": {
      "text/plain": [
       "'2019-05-21 08:29:55'"
      ]
     },
     "execution_count": 37,
     "metadata": {},
     "output_type": "execute_result"
    }
   ],
   "source": [
    "df.Start_Time[0]"
   ]
  },
  {
   "cell_type": "code",
   "execution_count": 38,
   "id": "a52a723d",
   "metadata": {},
   "outputs": [],
   "source": [
    "#ABOVE WE GOT sstring we need to convert it into date \n",
    "df.Start_Time=pd.to_datetime(df.Start_Time)\n",
    "# now start_time column will contain datetime object\n"
   ]
  },
  {
   "cell_type": "code",
   "execution_count": 39,
   "id": "9d4eed55",
   "metadata": {},
   "outputs": [
    {
     "data": {
      "text/plain": [
       "Timestamp('2019-05-21 08:29:55')"
      ]
     },
     "execution_count": 39,
     "metadata": {},
     "output_type": "execute_result"
    }
   ],
   "source": [
    "df.Start_Time[0]"
   ]
  },
  {
   "cell_type": "code",
   "execution_count": 40,
   "id": "68022ef0",
   "metadata": {},
   "outputs": [
    {
     "data": {
      "text/plain": [
       "0           8\n",
       "1          17\n",
       "2          21\n",
       "3          16\n",
       "4          17\n",
       "           ..\n",
       "2906605     8\n",
       "2906606     2\n",
       "2906607    12\n",
       "2906608    22\n",
       "2906609    13\n",
       "Name: Start_Time, Length: 2906610, dtype: int64"
      ]
     },
     "execution_count": 40,
     "metadata": {},
     "output_type": "execute_result"
    }
   ],
   "source": [
    "df.Start_Time.dt.hour"
   ]
  },
  {
   "cell_type": "code",
   "execution_count": 41,
   "id": "c2cd0559",
   "metadata": {},
   "outputs": [
    {
     "name": "stderr",
     "output_type": "stream",
     "text": [
      "c:\\python\\python39\\lib\\site-packages\\seaborn\\distributions.py:2557: FutureWarning: `distplot` is a deprecated function and will be removed in a future version. Please adapt your code to use either `displot` (a figure-level function with similar flexibility) or `histplot` (an axes-level function for histograms).\n",
      "  warnings.warn(msg, FutureWarning)\n"
     ]
    },
    {
     "data": {
      "text/plain": [
       "<AxesSubplot:xlabel='Start_Time'>"
      ]
     },
     "execution_count": 41,
     "metadata": {},
     "output_type": "execute_result"
    },
    {
     "data": {
      "image/png": "[encoded data removed]",
      "text/plain": [
       "<Figure size 432x288 with 1 Axes>"
      ]
     },
     "metadata": {},
     "output_type": "display_data"
    }
   ],
   "source": [
    "#pandas return hour of the day from datetimestamp\n",
    "sns.distplot(df.Start_Time.dt.hour,bins=24,kde=False)\n",
    "#put bins =24 bcoz there are 24hours in a day"
   ]
  },
  {
   "cell_type": "code",
   "execution_count": 42,
   "id": "a9dd7728",
   "metadata": {},
   "outputs": [
    {
     "data": {
      "text/plain": [
       "<AxesSubplot:xlabel='Start_Time'>"
      ]
     },
     "execution_count": 42,
     "metadata": {},
     "output_type": "execute_result"
    },
    {
     "data": {
      "image/png": "[encoded data removed]",
      "text/plain": [
       "<Figure size 432x288 with 1 Axes>"
      ]
     },
     "metadata": {},
     "output_type": "display_data"
    }
   ],
   "source": [
    "#how to plot percenateges with seaborn displot(use norm_hist=True)\n",
    "sns.distplot(df.Start_Time.dt.hour,bins=24,kde=False,norm_hist=True)"
   ]
  },
  {
   "cell_type": "code",
   "execution_count": 43,
   "id": "3014763c",
   "metadata": {},
   "outputs": [
    {
     "data": {
      "text/plain": [
       "\"'here you vcan conclude that high percentage of accidents occuring during 7-9am \\nbcoz people leavin home in hurry to get to the work and during \\n4-7Am at this time people might be returning too their home\\nfrom office or teenagers might be going out for chilling \""
      ]
     },
     "execution_count": 43,
     "metadata": {},
     "output_type": "execute_result"
    }
   ],
   "source": [
    "''''here you vcan conclude that high percentage of accidents occuring during 7-9am \n",
    "bcoz people leavin home in hurry to get to the work and during \n",
    "4-7Am at this time people might be returning too their home\n",
    "from office or teenagers might be going out for chilling '''"
   ]
  },
  {
   "cell_type": "code",
   "execution_count": 44,
   "id": "649fd767",
   "metadata": {},
   "outputs": [
    {
     "data": {
      "text/plain": [
       "<AxesSubplot:xlabel='Start_Time'>"
      ]
     },
     "execution_count": 44,
     "metadata": {},
     "output_type": "execute_result"
    },
    {
     "data": {
      "image/png": "[encoded data removed]",
      "text/plain": [
       "<Figure size 432x288 with 1 Axes>"
      ]
     },
     "metadata": {},
     "output_type": "display_data"
    }
   ],
   "source": [
    "sns.distplot(df.Start_Time.dt.day_of_week,bins=7,kde=False,norm_hist=True)"
   ]
  },
  {
   "cell_type": "code",
   "execution_count": 45,
   "id": "e6083a6f",
   "metadata": {},
   "outputs": [],
   "source": [
    "sunday_start_time=df.Start_Time[df.Start_Time.dt.day_of_week==6]\n",
    "#is the distribution of accidemts by hour the same on weekedns as on weekdays"
   ]
  },
  {
   "cell_type": "code",
   "execution_count": 46,
   "id": "bc1f2f10",
   "metadata": {},
   "outputs": [
    {
     "name": "stderr",
     "output_type": "stream",
     "text": [
      "c:\\python\\python39\\lib\\site-packages\\seaborn\\distributions.py:2557: FutureWarning: `distplot` is a deprecated function and will be removed in a future version. Please adapt your code to use either `displot` (a figure-level function with similar flexibility) or `histplot` (an axes-level function for histograms).\n",
      "  warnings.warn(msg, FutureWarning)\n"
     ]
    },
    {
     "data": {
      "text/plain": [
       "<AxesSubplot:xlabel='Start_Time'>"
      ]
     },
     "execution_count": 46,
     "metadata": {},
     "output_type": "execute_result"
    },
    {
     "data": {
      "image/png": "[encoded data removed]",
      "text/plain": [
       "<Figure size 432x288 with 1 Axes>"
      ]
     },
     "metadata": {},
     "output_type": "display_data"
    }
   ],
   "source": [
    "sns.distplot(sunday_start_time.dt.hour,bins=24,kde=False,norm_hist=True)"
   ]
  },
  {
   "cell_type": "code",
   "execution_count": 47,
   "id": "a8fffd6e",
   "metadata": {},
   "outputs": [
    {
     "name": "stderr",
     "output_type": "stream",
     "text": [
      "c:\\python\\python39\\lib\\site-packages\\seaborn\\distributions.py:2557: FutureWarning: `distplot` is a deprecated function and will be removed in a future version. Please adapt your code to use either `displot` (a figure-level function with similar flexibility) or `histplot` (an axes-level function for histograms).\n",
      "  warnings.warn(msg, FutureWarning)\n"
     ]
    },
    {
     "data": {
      "text/plain": [
       "<AxesSubplot:xlabel='Start_Time'>"
      ]
     },
     "execution_count": 47,
     "metadata": {},
     "output_type": "execute_result"
    },
    {
     "data": {
      "image/png": "[encoded data removed]",
      "text/plain": [
       "<Figure size 432x288 with 1 Axes>"
      ]
     },
     "metadata": {},
     "output_type": "display_data"
    }
   ],
   "source": [
    "monday_start_time=df.Start_Time[df.Start_Time.dt.day_of_week==0]\n",
    "sns.distplot(monday_start_time.dt.hour,bins=24,kde=False,norm_hist=True)"
   ]
  },
  {
   "cell_type": "code",
   "execution_count": 48,
   "id": "9f6a7666",
   "metadata": {},
   "outputs": [
    {
     "data": {
      "text/plain": [
       "<AxesSubplot:xlabel='Start_Time'>"
      ]
     },
     "execution_count": 48,
     "metadata": {},
     "output_type": "execute_result"
    },
    {
     "data": {
      "image/png": "[encoded data removed]",
      "text/plain": [
       "<Figure size 432x288 with 1 Axes>"
      ]
     },
     "metadata": {},
     "output_type": "display_data"
    }
   ],
   "source": [
    "sns.distplot(df.Start_Time.dt.month,bins=12,kde=False,norm_hist=True)\n",
    "#month-wise trend of accidents"
   ]
  },
  {
   "cell_type": "code",
   "execution_count": 49,
   "id": "8ae95299",
   "metadata": {},
   "outputs": [
    {
     "data": {
      "text/plain": [
       "0          2019\n",
       "1          2019\n",
       "2          2020\n",
       "3          2018\n",
       "4          2016\n",
       "           ... \n",
       "2906605    2018\n",
       "2906606    2019\n",
       "2906607    2020\n",
       "2906608    2019\n",
       "2906609    2018\n",
       "Name: Start_Time, Length: 2906610, dtype: int64"
      ]
     },
     "execution_count": 49,
     "metadata": {},
     "output_type": "execute_result"
    }
   ],
   "source": [
    "df.Start_Time.dt.year"
   ]
  },
  {
   "cell_type": "code",
   "execution_count": 50,
   "id": "108319f3",
   "metadata": {},
   "outputs": [
    {
     "name": "stderr",
     "output_type": "stream",
     "text": [
      "c:\\python\\python39\\lib\\site-packages\\seaborn\\distributions.py:2557: FutureWarning: `distplot` is a deprecated function and will be removed in a future version. Please adapt your code to use either `displot` (a figure-level function with similar flexibility) or `histplot` (an axes-level function for histograms).\n",
      "  warnings.warn(msg, FutureWarning)\n"
     ]
    },
    {
     "data": {
      "text/plain": [
       "<AxesSubplot:xlabel='Start_Time'>"
      ]
     },
     "execution_count": 50,
     "metadata": {},
     "output_type": "execute_result"
    },
    {
     "data": {
      "image/png": "[encoded data removed]",
      "text/plain": [
       "<Figure size 432x288 with 1 Axes>"
      ]
     },
     "metadata": {},
     "output_type": "display_data"
    }
   ],
   "source": [
    "df_2019=df[df.Start_Time.dt.year==2019]\n",
    "sns.distplot(df_2019.Start_Time.dt.month,bins=12,kde=False,norm_hist=True)\n",
    "#trend of accidents in year 2019"
   ]
  },
  {
   "cell_type": "code",
   "execution_count": 51,
   "id": "0cfd5a2b",
   "metadata": {},
   "outputs": [
    {
     "name": "stderr",
     "output_type": "stream",
     "text": [
      "c:\\python\\python39\\lib\\site-packages\\seaborn\\distributions.py:2557: FutureWarning: `distplot` is a deprecated function and will be removed in a future version. Please adapt your code to use either `displot` (a figure-level function with similar flexibility) or `histplot` (an axes-level function for histograms).\n",
      "  warnings.warn(msg, FutureWarning)\n"
     ]
    },
    {
     "data": {
      "text/plain": [
       "<AxesSubplot:xlabel='Start_Time'>"
      ]
     },
     "execution_count": 51,
     "metadata": {},
     "output_type": "execute_result"
    },
    {
     "data": {
      "image/png": "[encoded data removed]",
      "text/plain": [
       "<Figure size 432x288 with 1 Axes>"
      ]
     },
     "metadata": {},
     "output_type": "display_data"
    }
   ],
   "source": [
    "df_2019=df[df.Start_Time.dt.year==2018]\n",
    "sns.distplot(df_2019.Start_Time.dt.month,bins=12,kde=False,norm_hist=True)"
   ]
  },
  {
   "cell_type": "code",
   "execution_count": 55,
   "id": "939a4fb6",
   "metadata": {},
   "outputs": [
    {
     "name": "stderr",
     "output_type": "stream",
     "text": [
      "c:\\python\\python39\\lib\\site-packages\\seaborn\\distributions.py:2557: FutureWarning: `distplot` is a deprecated function and will be removed in a future version. Please adapt your code to use either `displot` (a figure-level function with similar flexibility) or `histplot` (an axes-level function for histograms).\n",
      "  warnings.warn(msg, FutureWarning)\n"
     ]
    },
    {
     "data": {
      "text/plain": [
       "<AxesSubplot:xlabel='Start_Time'>"
      ]
     },
     "execution_count": 55,
     "metadata": {},
     "output_type": "execute_result"
    },
    {
     "data": {
      "image/png": "[encoded data removed]",
      "text/plain": [
       "<Figure size 432x288 with 1 Axes>"
      ]
     },
     "metadata": {},
     "output_type": "display_data"
    }
   ],
   "source": [
    "df_2019=df[df.Start_Time.dt.year==2016]\n",
    "sns.distplot(df_2019.Start_Time.dt.month,bins=12,kde=False,norm_hist=True)"
   ]
  },
  {
   "cell_type": "markdown",
   "id": "945f72c2",
   "metadata": {},
   "source": [
    "analyzing start_lat, start_lng\n",
    "\n"
   ]
  },
  {
   "cell_type": "code",
   "execution_count": 56,
   "id": "83eb89df",
   "metadata": {},
   "outputs": [
    {
     "data": {
      "text/plain": [
       "0          34.808868\n",
       "1          35.090080\n",
       "2          37.145730\n",
       "3          39.110390\n",
       "4          26.102942\n",
       "             ...    \n",
       "2906605    29.813824\n",
       "2906606    34.068890\n",
       "2906607    25.702200\n",
       "2906608    40.660140\n",
       "2906609    38.831749\n",
       "Name: Start_Lat, Length: 2906610, dtype: float64"
      ]
     },
     "execution_count": 56,
     "metadata": {},
     "output_type": "execute_result"
    }
   ],
   "source": [
    "df.Start_Lat"
   ]
  },
  {
   "cell_type": "code",
   "execution_count": 58,
   "id": "31f4d581",
   "metadata": {},
   "outputs": [
    {
     "data": {
      "text/plain": [
       "0          -82.269157\n",
       "1          -80.745560\n",
       "2         -121.985052\n",
       "3         -119.773781\n",
       "4          -80.265091\n",
       "              ...    \n",
       "2906605    -95.399437\n",
       "2906606   -117.342010\n",
       "2906607    -80.335556\n",
       "2906608   -111.952460\n",
       "2906609   -104.748161\n",
       "Name: Start_Lng, Length: 2906610, dtype: float64"
      ]
     },
     "execution_count": 58,
     "metadata": {},
     "output_type": "execute_result"
    }
   ],
   "source": [
    "df.Start_Lng"
   ]
  },
  {
   "cell_type": "code",
   "execution_count": 59,
   "id": "b9a7163f",
   "metadata": {},
   "outputs": [
    {
     "data": {
      "text/plain": [
       "<AxesSubplot:xlabel='Start_Lng', ylabel='Start_Lat'>"
      ]
     },
     "execution_count": 59,
     "metadata": {},
     "output_type": "execute_result"
    },
    {
     "data": {
      "image/png": "[encoded data removed]",
      "text/plain": [
       "<Figure size 432x288 with 1 Axes>"
      ]
     },
     "metadata": {},
     "output_type": "display_data"
    }
   ],
   "source": [
    "sns.scatterplot(x=df.Start_Lng,y=df.Start_Lat)#check latitude and lonfittude direction"
   ]
  },
  {
   "cell_type": "code",
   "execution_count": null,
   "id": "b6c7cde4",
   "metadata": {},
   "outputs": [],
   "source": [
    "#sample_df=df.sample(int(0.1*len(df)))"
   ]
  },
  {
   "cell_type": "code",
   "execution_count": null,
   "id": "d8163628",
   "metadata": {},
   "outputs": [],
   "source": [
    "#reducing the scatterplot point size and taking 10% of the sample and plotting scatterplot\n",
    "#sns.scatterplot(x=sample_df.Start_Lng,y=sample_df.Start_Lat,size=0.001)\n",
    "#run it later and do analysis"
   ]
  },
  {
   "cell_type": "code",
   "execution_count": null,
   "id": "84e34dd6",
   "metadata": {},
   "outputs": [],
   "source": [
    "''''import folium\n",
    "map=folium.Map()\n",
    "lat,lon=df.Start_Lat[0],df.Start.Lng[0]\n",
    "adding marker to the map\n",
    "marker=folium.Marker((lat,lon))\n",
    "marker.add_to(map)\n",
    "map'''\n",
    "#for x in df[['Start_Lat','Start_Lng']].sample(100).iteritems():#how to interate over data frame using for loop\n",
    " #   print(x)\n",
    "    \n",
    "    \n",
    "    "
   ]
  },
  {
   "cell_type": "code",
   "execution_count": null,
   "id": "ea599177",
   "metadata": {},
   "outputs": [],
   "source": [
    "#sample_df=df.sample(int(0.001*len(df)))\n",
    "#lat_lon_pairs=zip(list(sample_df.Start_Lat),list(sample_df.Start_Lng)) #plotting heat map in folium map \n"
   ]
  },
  {
   "cell_type": "code",
   "execution_count": null,
   "id": "61295cb1",
   "metadata": {},
   "outputs": [],
   "source": [
    "#from folium.plugins import HeatMap\n",
    "#map=folium.Map()\n",
    "#HeatMap(lat_lon_pairs).add_to(map)\n",
    "#map"
   ]
  },
  {
   "cell_type": "code",
   "execution_count": null,
   "id": "078b287d",
   "metadata": {},
   "outputs": [],
   "source": [
    "#INSIGHTS\n",
    "''''-no data for new work\n",
    "-4.5% of total citites have yearly accident grater than 1000\n",
    "-over 1300 cities have reported just 1 accident only you need to investigate this data\n",
    "-number of accidents per city decreases exponentially\n",
    "-on weekends fewer people travelling therefore fewer accident occured\n",
    "-on sundays peak of accidents occur between 10am-3pm unlike weekdays\n",
    "-there seems to be more car accidents in winter month\n",
    "-much data is missing for year 2016 and also for 2017'''"
   ]
  }
 ],
 "metadata": {
  "kernelspec": {
   "display_name": "Python 3",
   "language": "python",
   "name": "python3"
  },
  "language_info": {
   "codemirror_mode": {
    "name": "ipython",
    "version": 3
   },
   "file_extension": ".py",
   "mimetype": "text/x-python",
   "name": "python",
   "nbconvert_exporter": "python",
   "pygments_lexer": "ipython3",
   "version": "3.9.5"
  }
 },
 "nbformat": 4,
 "nbformat_minor": 5
}
